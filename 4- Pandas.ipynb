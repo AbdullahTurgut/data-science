{
 "cells": [
  {
   "cell_type": "code",
   "execution_count": 1,
   "id": "6b41a848-e01e-462a-80de-d466682daf47",
   "metadata": {},
   "outputs": [],
   "source": [
    "import numpy as np\n",
    "import pandas as pd"
   ]
  },
  {
   "cell_type": "code",
   "execution_count": 2,
   "id": "c22c2cc7-3d71-407d-bf6e-afe3bc9efb4f",
   "metadata": {},
   "outputs": [],
   "source": [
    "grades = {\"Abdllah\":100, \"David\":75,\"Alexa\":80}"
   ]
  },
  {
   "cell_type": "code",
   "execution_count": 3,
   "id": "dca6f35d-5424-4beb-bed2-be2536c74757",
   "metadata": {},
   "outputs": [
    {
     "data": {
      "text/plain": [
       "Abdllah    100\n",
       "David       75\n",
       "Alexa       80\n",
       "dtype: int64"
      ]
     },
     "execution_count": 3,
     "metadata": {},
     "output_type": "execute_result"
    }
   ],
   "source": [
    "pd.Series(grades)"
   ]
  },
  {
   "cell_type": "code",
   "execution_count": 4,
   "id": "5a4abf6a-dc35-4d2b-874e-8ab233c09803",
   "metadata": {},
   "outputs": [],
   "source": [
    "# arithmetic"
   ]
  },
  {
   "cell_type": "code",
   "execution_count": 6,
   "id": "d2059858-02c9-4d33-96bc-a1c073886efd",
   "metadata": {},
   "outputs": [],
   "source": [
    "contestResult = pd.Series(data = [10,25,100],index = [\"Abdllah\",\"David\",\"Alexa\"])"
   ]
  },
  {
   "cell_type": "code",
   "execution_count": 7,
   "id": "a9a043a8-0ea5-4d16-8f72-aeb688e146c8",
   "metadata": {},
   "outputs": [],
   "source": [
    "contestResult2 = pd.Series(data = [50,35,20],index = [\"Abdllah\",\"David\",\"Alexa\"])"
   ]
  },
  {
   "cell_type": "code",
   "execution_count": 8,
   "id": "2e7a08f1-c2bb-4c74-8e36-6b376df96915",
   "metadata": {},
   "outputs": [],
   "source": [
    "finalResult  = contestResult + contestResult2"
   ]
  },
  {
   "cell_type": "code",
   "execution_count": 9,
   "id": "68f96337-fe2c-4356-9e1b-36688270102f",
   "metadata": {},
   "outputs": [
    {
     "data": {
      "text/plain": [
       "Abdllah     60\n",
       "David       60\n",
       "Alexa      120\n",
       "dtype: int64"
      ]
     },
     "execution_count": 9,
     "metadata": {},
     "output_type": "execute_result"
    }
   ],
   "source": [
    "finalResult"
   ]
  },
  {
   "cell_type": "code",
   "execution_count": 14,
   "id": "021db944-1d99-4eee-a2f1-6f5c601d84ae",
   "metadata": {},
   "outputs": [],
   "source": [
    " difSeries = pd.Series([10,5,7,1,8,23],[\"a\",\"b\",\"c\",\"d\",\"e\",\"f\"])"
   ]
  },
  {
   "cell_type": "code",
   "execution_count": 15,
   "id": "0428b577-b433-43a4-bde1-521eaef3968e",
   "metadata": {},
   "outputs": [],
   "source": [
    "difSeries2 = pd.Series([20,50,40,1],[\"a\",\"f\",\"t\",\"v\"])"
   ]
  },
  {
   "cell_type": "code",
   "execution_count": 16,
   "id": "ad270497-7fbd-4fa0-a9fd-636d9665174f",
   "metadata": {},
   "outputs": [
    {
     "data": {
      "text/plain": [
       "a    30.0\n",
       "b     NaN\n",
       "c     NaN\n",
       "d     NaN\n",
       "e     NaN\n",
       "f    73.0\n",
       "t     NaN\n",
       "v     NaN\n",
       "dtype: float64"
      ]
     },
     "execution_count": 16,
     "metadata": {},
     "output_type": "execute_result"
    }
   ],
   "source": [
    "difSeries + difSeries2"
   ]
  },
  {
   "cell_type": "code",
   "execution_count": 17,
   "id": "46f44fd6-6d40-497e-929d-661291a70c3e",
   "metadata": {},
   "outputs": [],
   "source": [
    "# Data Frame"
   ]
  },
  {
   "cell_type": "code",
   "execution_count": 45,
   "id": "4aeb3fd6-16c0-49da-ade0-acbd6f332c85",
   "metadata": {},
   "outputs": [],
   "source": [
    "data = np.random.randn(4,3)"
   ]
  },
  {
   "cell_type": "code",
   "execution_count": 46,
   "id": "be0f03a2-4ac1-4e9c-aae6-ebb5a58ac757",
   "metadata": {},
   "outputs": [
    {
     "data": {
      "text/plain": [
       "array([[-0.40688503, -0.46145878,  0.39459586],\n",
       "       [ 1.38344855,  1.14723907, -0.34870752],\n",
       "       [ 0.07010434,  1.27068576, -0.60452156],\n",
       "       [ 0.35825078, -0.65507415, -0.2111229 ]])"
      ]
     },
     "execution_count": 46,
     "metadata": {},
     "output_type": "execute_result"
    }
   ],
   "source": [
    "data"
   ]
  },
  {
   "cell_type": "code",
   "execution_count": 47,
   "id": "6615c6d7-536d-4454-9b99-72980ad518f1",
   "metadata": {},
   "outputs": [],
   "source": [
    "dataFrame = pd.DataFrame(data)"
   ]
  },
  {
   "cell_type": "code",
   "execution_count": 48,
   "id": "42abaec4-9f43-4948-844c-349d36eebe2b",
   "metadata": {},
   "outputs": [
    {
     "data": {
      "text/html": [
       "<div>\n",
       "<style scoped>\n",
       "    .dataframe tbody tr th:only-of-type {\n",
       "        vertical-align: middle;\n",
       "    }\n",
       "\n",
       "    .dataframe tbody tr th {\n",
       "        vertical-align: top;\n",
       "    }\n",
       "\n",
       "    .dataframe thead th {\n",
       "        text-align: right;\n",
       "    }\n",
       "</style>\n",
       "<table border=\"1\" class=\"dataframe\">\n",
       "  <thead>\n",
       "    <tr style=\"text-align: right;\">\n",
       "      <th></th>\n",
       "      <th>0</th>\n",
       "      <th>1</th>\n",
       "      <th>2</th>\n",
       "    </tr>\n",
       "  </thead>\n",
       "  <tbody>\n",
       "    <tr>\n",
       "      <th>0</th>\n",
       "      <td>-0.406885</td>\n",
       "      <td>-0.461459</td>\n",
       "      <td>0.394596</td>\n",
       "    </tr>\n",
       "    <tr>\n",
       "      <th>1</th>\n",
       "      <td>1.383449</td>\n",
       "      <td>1.147239</td>\n",
       "      <td>-0.348708</td>\n",
       "    </tr>\n",
       "    <tr>\n",
       "      <th>2</th>\n",
       "      <td>0.070104</td>\n",
       "      <td>1.270686</td>\n",
       "      <td>-0.604522</td>\n",
       "    </tr>\n",
       "    <tr>\n",
       "      <th>3</th>\n",
       "      <td>0.358251</td>\n",
       "      <td>-0.655074</td>\n",
       "      <td>-0.211123</td>\n",
       "    </tr>\n",
       "  </tbody>\n",
       "</table>\n",
       "</div>"
      ],
      "text/plain": [
       "          0         1         2\n",
       "0 -0.406885 -0.461459  0.394596\n",
       "1  1.383449  1.147239 -0.348708\n",
       "2  0.070104  1.270686 -0.604522\n",
       "3  0.358251 -0.655074 -0.211123"
      ]
     },
     "execution_count": 48,
     "metadata": {},
     "output_type": "execute_result"
    }
   ],
   "source": [
    "dataFrame"
   ]
  },
  {
   "cell_type": "code",
   "execution_count": 49,
   "id": "7fd489e6-6a5b-47d8-9681-4be912b4caa2",
   "metadata": {},
   "outputs": [
    {
     "data": {
      "text/plain": [
       "0   -0.406885\n",
       "1    1.383449\n",
       "2    0.070104\n",
       "3    0.358251\n",
       "Name: 0, dtype: float64"
      ]
     },
     "execution_count": 49,
     "metadata": {},
     "output_type": "execute_result"
    }
   ],
   "source": [
    "dataFrame[0]"
   ]
  },
  {
   "cell_type": "code",
   "execution_count": 50,
   "id": "8b8c276f-b8b8-4736-b3d6-9c6a5ea34d2c",
   "metadata": {},
   "outputs": [
    {
     "data": {
      "text/plain": [
       "pandas.core.series.Series"
      ]
     },
     "execution_count": 50,
     "metadata": {},
     "output_type": "execute_result"
    }
   ],
   "source": [
    "type(dataFrame[0])"
   ]
  },
  {
   "cell_type": "code",
   "execution_count": 51,
   "id": "fc8ac32d-9605-4e95-acfc-8aab13f5335e",
   "metadata": {},
   "outputs": [],
   "source": [
    "newDf = pd.DataFrame(data, index = [\"Abdllah\",\"Çato\",\"Baris\",\"Emircan\"],columns=[\"Salary\",\"Age\",\"Seniority\"])"
   ]
  },
  {
   "cell_type": "code",
   "execution_count": 52,
   "id": "50605fd1-2829-43f7-85d2-ddb071731959",
   "metadata": {},
   "outputs": [
    {
     "data": {
      "text/html": [
       "<div>\n",
       "<style scoped>\n",
       "    .dataframe tbody tr th:only-of-type {\n",
       "        vertical-align: middle;\n",
       "    }\n",
       "\n",
       "    .dataframe tbody tr th {\n",
       "        vertical-align: top;\n",
       "    }\n",
       "\n",
       "    .dataframe thead th {\n",
       "        text-align: right;\n",
       "    }\n",
       "</style>\n",
       "<table border=\"1\" class=\"dataframe\">\n",
       "  <thead>\n",
       "    <tr style=\"text-align: right;\">\n",
       "      <th></th>\n",
       "      <th>Salary</th>\n",
       "      <th>Age</th>\n",
       "      <th>Seniority</th>\n",
       "    </tr>\n",
       "  </thead>\n",
       "  <tbody>\n",
       "    <tr>\n",
       "      <th>Abdllah</th>\n",
       "      <td>-0.406885</td>\n",
       "      <td>-0.461459</td>\n",
       "      <td>0.394596</td>\n",
       "    </tr>\n",
       "    <tr>\n",
       "      <th>Çato</th>\n",
       "      <td>1.383449</td>\n",
       "      <td>1.147239</td>\n",
       "      <td>-0.348708</td>\n",
       "    </tr>\n",
       "    <tr>\n",
       "      <th>Baris</th>\n",
       "      <td>0.070104</td>\n",
       "      <td>1.270686</td>\n",
       "      <td>-0.604522</td>\n",
       "    </tr>\n",
       "    <tr>\n",
       "      <th>Emircan</th>\n",
       "      <td>0.358251</td>\n",
       "      <td>-0.655074</td>\n",
       "      <td>-0.211123</td>\n",
       "    </tr>\n",
       "  </tbody>\n",
       "</table>\n",
       "</div>"
      ],
      "text/plain": [
       "           Salary       Age  Seniority\n",
       "Abdllah -0.406885 -0.461459   0.394596\n",
       "Çato     1.383449  1.147239  -0.348708\n",
       "Baris    0.070104  1.270686  -0.604522\n",
       "Emircan  0.358251 -0.655074  -0.211123"
      ]
     },
     "execution_count": 52,
     "metadata": {},
     "output_type": "execute_result"
    }
   ],
   "source": [
    "newDf"
   ]
  },
  {
   "cell_type": "code",
   "execution_count": 53,
   "id": "a739005c-9b76-4fd8-9383-f0dacc722ab3",
   "metadata": {},
   "outputs": [
    {
     "data": {
      "text/plain": [
       "Abdllah   -0.461459\n",
       "Çato       1.147239\n",
       "Baris      1.270686\n",
       "Emircan   -0.655074\n",
       "Name: Age, dtype: float64"
      ]
     },
     "execution_count": 53,
     "metadata": {},
     "output_type": "execute_result"
    }
   ],
   "source": [
    "newDf[\"Age\"]"
   ]
  },
  {
   "cell_type": "code",
   "execution_count": 54,
   "id": "aa30f794-6a1e-46ba-ab39-e766bca37f4c",
   "metadata": {},
   "outputs": [
    {
     "data": {
      "text/plain": [
       "Abdllah   -0.406885\n",
       "Çato       1.383449\n",
       "Baris      0.070104\n",
       "Emircan    0.358251\n",
       "Name: Salary, dtype: float64"
      ]
     },
     "execution_count": 54,
     "metadata": {},
     "output_type": "execute_result"
    }
   ],
   "source": [
    "newDf[\"Salary\"]"
   ]
  },
  {
   "cell_type": "code",
   "execution_count": 56,
   "id": "0eba2395-8fa1-4dba-ab7d-4200f8eff5d9",
   "metadata": {},
   "outputs": [
    {
     "data": {
      "text/html": [
       "<div>\n",
       "<style scoped>\n",
       "    .dataframe tbody tr th:only-of-type {\n",
       "        vertical-align: middle;\n",
       "    }\n",
       "\n",
       "    .dataframe tbody tr th {\n",
       "        vertical-align: top;\n",
       "    }\n",
       "\n",
       "    .dataframe thead th {\n",
       "        text-align: right;\n",
       "    }\n",
       "</style>\n",
       "<table border=\"1\" class=\"dataframe\">\n",
       "  <thead>\n",
       "    <tr style=\"text-align: right;\">\n",
       "      <th></th>\n",
       "      <th>Age</th>\n",
       "      <th>Salary</th>\n",
       "    </tr>\n",
       "  </thead>\n",
       "  <tbody>\n",
       "    <tr>\n",
       "      <th>Abdllah</th>\n",
       "      <td>-0.461459</td>\n",
       "      <td>-0.406885</td>\n",
       "    </tr>\n",
       "    <tr>\n",
       "      <th>Çato</th>\n",
       "      <td>1.147239</td>\n",
       "      <td>1.383449</td>\n",
       "    </tr>\n",
       "    <tr>\n",
       "      <th>Baris</th>\n",
       "      <td>1.270686</td>\n",
       "      <td>0.070104</td>\n",
       "    </tr>\n",
       "    <tr>\n",
       "      <th>Emircan</th>\n",
       "      <td>-0.655074</td>\n",
       "      <td>0.358251</td>\n",
       "    </tr>\n",
       "  </tbody>\n",
       "</table>\n",
       "</div>"
      ],
      "text/plain": [
       "              Age    Salary\n",
       "Abdllah -0.461459 -0.406885\n",
       "Çato     1.147239  1.383449\n",
       "Baris    1.270686  0.070104\n",
       "Emircan -0.655074  0.358251"
      ]
     },
     "execution_count": 56,
     "metadata": {},
     "output_type": "execute_result"
    }
   ],
   "source": [
    "newDf[[\"Age\",\"Salary\"]]"
   ]
  },
  {
   "cell_type": "code",
   "execution_count": 57,
   "id": "1fdaae0e-0cb5-44f1-ada1-d01f197cc9ee",
   "metadata": {},
   "outputs": [],
   "source": [
    "# if we want to return row"
   ]
  },
  {
   "cell_type": "code",
   "execution_count": 60,
   "id": "ddcfa0ca-ccc6-4a9a-b2b1-7ae9334b2724",
   "metadata": {},
   "outputs": [
    {
     "data": {
      "text/plain": [
       "Salary      -0.406885\n",
       "Age         -0.461459\n",
       "Seniority    0.394596\n",
       "Name: Abdllah, dtype: float64"
      ]
     },
     "execution_count": 60,
     "metadata": {},
     "output_type": "execute_result"
    }
   ],
   "source": [
    "newDf.loc[\"Abdllah\"] # \"iloc[0]\""
   ]
  },
  {
   "cell_type": "code",
   "execution_count": 61,
   "id": "2270c306-4871-4d67-997d-56a5c79235d6",
   "metadata": {},
   "outputs": [],
   "source": [
    "newDf[\"Extra\"] = 10"
   ]
  },
  {
   "cell_type": "code",
   "execution_count": 62,
   "id": "b99c399c-0194-4ca8-88a6-08c545f69e3a",
   "metadata": {},
   "outputs": [
    {
     "data": {
      "text/html": [
       "<div>\n",
       "<style scoped>\n",
       "    .dataframe tbody tr th:only-of-type {\n",
       "        vertical-align: middle;\n",
       "    }\n",
       "\n",
       "    .dataframe tbody tr th {\n",
       "        vertical-align: top;\n",
       "    }\n",
       "\n",
       "    .dataframe thead th {\n",
       "        text-align: right;\n",
       "    }\n",
       "</style>\n",
       "<table border=\"1\" class=\"dataframe\">\n",
       "  <thead>\n",
       "    <tr style=\"text-align: right;\">\n",
       "      <th></th>\n",
       "      <th>Salary</th>\n",
       "      <th>Age</th>\n",
       "      <th>Seniority</th>\n",
       "      <th>Extra</th>\n",
       "    </tr>\n",
       "  </thead>\n",
       "  <tbody>\n",
       "    <tr>\n",
       "      <th>Abdllah</th>\n",
       "      <td>-0.406885</td>\n",
       "      <td>-0.461459</td>\n",
       "      <td>0.394596</td>\n",
       "      <td>10</td>\n",
       "    </tr>\n",
       "    <tr>\n",
       "      <th>Çato</th>\n",
       "      <td>1.383449</td>\n",
       "      <td>1.147239</td>\n",
       "      <td>-0.348708</td>\n",
       "      <td>10</td>\n",
       "    </tr>\n",
       "    <tr>\n",
       "      <th>Baris</th>\n",
       "      <td>0.070104</td>\n",
       "      <td>1.270686</td>\n",
       "      <td>-0.604522</td>\n",
       "      <td>10</td>\n",
       "    </tr>\n",
       "    <tr>\n",
       "      <th>Emircan</th>\n",
       "      <td>0.358251</td>\n",
       "      <td>-0.655074</td>\n",
       "      <td>-0.211123</td>\n",
       "      <td>10</td>\n",
       "    </tr>\n",
       "  </tbody>\n",
       "</table>\n",
       "</div>"
      ],
      "text/plain": [
       "           Salary       Age  Seniority  Extra\n",
       "Abdllah -0.406885 -0.461459   0.394596     10\n",
       "Çato     1.383449  1.147239  -0.348708     10\n",
       "Baris    0.070104  1.270686  -0.604522     10\n",
       "Emircan  0.358251 -0.655074  -0.211123     10"
      ]
     },
     "execution_count": 62,
     "metadata": {},
     "output_type": "execute_result"
    }
   ],
   "source": [
    "newDf"
   ]
  },
  {
   "cell_type": "code",
   "execution_count": 66,
   "id": "39e57549-77d2-4996-a573-815b6aee156b",
   "metadata": {},
   "outputs": [],
   "source": [
    "# newDf.drop(\"Extra\",axis=1,inplace=True) # default -> axis = 0 , inplace = False"
   ]
  },
  {
   "cell_type": "code",
   "execution_count": 67,
   "id": "dc18d2bc-d1f5-4732-b5cf-15573626ed5f",
   "metadata": {},
   "outputs": [
    {
     "data": {
      "text/html": [
       "<div>\n",
       "<style scoped>\n",
       "    .dataframe tbody tr th:only-of-type {\n",
       "        vertical-align: middle;\n",
       "    }\n",
       "\n",
       "    .dataframe tbody tr th {\n",
       "        vertical-align: top;\n",
       "    }\n",
       "\n",
       "    .dataframe thead th {\n",
       "        text-align: right;\n",
       "    }\n",
       "</style>\n",
       "<table border=\"1\" class=\"dataframe\">\n",
       "  <thead>\n",
       "    <tr style=\"text-align: right;\">\n",
       "      <th></th>\n",
       "      <th>Salary</th>\n",
       "      <th>Age</th>\n",
       "      <th>Seniority</th>\n",
       "    </tr>\n",
       "  </thead>\n",
       "  <tbody>\n",
       "    <tr>\n",
       "      <th>Abdllah</th>\n",
       "      <td>-0.406885</td>\n",
       "      <td>-0.461459</td>\n",
       "      <td>0.394596</td>\n",
       "    </tr>\n",
       "    <tr>\n",
       "      <th>Çato</th>\n",
       "      <td>1.383449</td>\n",
       "      <td>1.147239</td>\n",
       "      <td>-0.348708</td>\n",
       "    </tr>\n",
       "    <tr>\n",
       "      <th>Baris</th>\n",
       "      <td>0.070104</td>\n",
       "      <td>1.270686</td>\n",
       "      <td>-0.604522</td>\n",
       "    </tr>\n",
       "    <tr>\n",
       "      <th>Emircan</th>\n",
       "      <td>0.358251</td>\n",
       "      <td>-0.655074</td>\n",
       "      <td>-0.211123</td>\n",
       "    </tr>\n",
       "  </tbody>\n",
       "</table>\n",
       "</div>"
      ],
      "text/plain": [
       "           Salary       Age  Seniority\n",
       "Abdllah -0.406885 -0.461459   0.394596\n",
       "Çato     1.383449  1.147239  -0.348708\n",
       "Baris    0.070104  1.270686  -0.604522\n",
       "Emircan  0.358251 -0.655074  -0.211123"
      ]
     },
     "execution_count": 67,
     "metadata": {},
     "output_type": "execute_result"
    }
   ],
   "source": [
    "newDf"
   ]
  },
  {
   "cell_type": "code",
   "execution_count": 69,
   "id": "c046a79b-abda-49c4-b247-c7a5047120c4",
   "metadata": {},
   "outputs": [
    {
     "data": {
      "text/html": [
       "<div>\n",
       "<style scoped>\n",
       "    .dataframe tbody tr th:only-of-type {\n",
       "        vertical-align: middle;\n",
       "    }\n",
       "\n",
       "    .dataframe tbody tr th {\n",
       "        vertical-align: top;\n",
       "    }\n",
       "\n",
       "    .dataframe thead th {\n",
       "        text-align: right;\n",
       "    }\n",
       "</style>\n",
       "<table border=\"1\" class=\"dataframe\">\n",
       "  <thead>\n",
       "    <tr style=\"text-align: right;\">\n",
       "      <th></th>\n",
       "      <th>Salary</th>\n",
       "      <th>Age</th>\n",
       "      <th>Seniority</th>\n",
       "    </tr>\n",
       "  </thead>\n",
       "  <tbody>\n",
       "    <tr>\n",
       "      <th>Çato</th>\n",
       "      <td>1.383449</td>\n",
       "      <td>1.147239</td>\n",
       "      <td>-0.348708</td>\n",
       "    </tr>\n",
       "    <tr>\n",
       "      <th>Baris</th>\n",
       "      <td>0.070104</td>\n",
       "      <td>1.270686</td>\n",
       "      <td>-0.604522</td>\n",
       "    </tr>\n",
       "    <tr>\n",
       "      <th>Emircan</th>\n",
       "      <td>0.358251</td>\n",
       "      <td>-0.655074</td>\n",
       "      <td>-0.211123</td>\n",
       "    </tr>\n",
       "  </tbody>\n",
       "</table>\n",
       "</div>"
      ],
      "text/plain": [
       "           Salary       Age  Seniority\n",
       "Çato     1.383449  1.147239  -0.348708\n",
       "Baris    0.070104  1.270686  -0.604522\n",
       "Emircan  0.358251 -0.655074  -0.211123"
      ]
     },
     "execution_count": 69,
     "metadata": {},
     "output_type": "execute_result"
    }
   ],
   "source": [
    "newDf[newDf[\"Salary\"] > 0]"
   ]
  },
  {
   "cell_type": "code",
   "execution_count": null,
   "id": "e615441a-d519-4c50-868c-a55a0619edec",
   "metadata": {},
   "outputs": [],
   "source": []
  }
 ],
 "metadata": {
  "kernelspec": {
   "display_name": "Python 3 (ipykernel)",
   "language": "python",
   "name": "python3"
  },
  "language_info": {
   "codemirror_mode": {
    "name": "ipython",
    "version": 3
   },
   "file_extension": ".py",
   "mimetype": "text/x-python",
   "name": "python",
   "nbconvert_exporter": "python",
   "pygments_lexer": "ipython3",
   "version": "3.13.5"
  }
 },
 "nbformat": 4,
 "nbformat_minor": 5
}
