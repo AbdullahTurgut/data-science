{
 "cells": [
  {
   "cell_type": "code",
   "execution_count": 1,
   "id": "fd7772cd-11c1-4ab8-a3d2-71589067c5c4",
   "metadata": {},
   "outputs": [],
   "source": [
    "import numpy as np"
   ]
  },
  {
   "cell_type": "code",
   "execution_count": 2,
   "id": "7e716e2b-d20b-461d-9348-f0fd99e5271d",
   "metadata": {},
   "outputs": [],
   "source": [
    "myNpList = np.array([1,2,3,4,5])"
   ]
  },
  {
   "cell_type": "code",
   "execution_count": 3,
   "id": "55593222-debd-4282-bc97-a2bf4e22d442",
   "metadata": {},
   "outputs": [
    {
     "data": {
      "text/plain": [
       "numpy.ndarray"
      ]
     },
     "execution_count": 3,
     "metadata": {},
     "output_type": "execute_result"
    }
   ],
   "source": [
    "type(myNpList)"
   ]
  },
  {
   "cell_type": "code",
   "execution_count": 4,
   "id": "61ed9b99-24ec-489d-97b9-30745c7fda7b",
   "metadata": {},
   "outputs": [
    {
     "data": {
      "text/plain": [
       "np.int64(5)"
      ]
     },
     "execution_count": 4,
     "metadata": {},
     "output_type": "execute_result"
    }
   ],
   "source": [
    "myNpList.max()"
   ]
  },
  {
   "cell_type": "code",
   "execution_count": 5,
   "id": "c130daee-bd39-4720-922e-43c041e032ae",
   "metadata": {},
   "outputs": [],
   "source": [
    "myList = [10,20,30,40]"
   ]
  },
  {
   "cell_type": "code",
   "execution_count": 6,
   "id": "9b1af57f-b22f-43b6-bb97-f06af53c3fe6",
   "metadata": {},
   "outputs": [],
   "source": [
    "myNpList2 = np.array(myList)"
   ]
  },
  {
   "cell_type": "code",
   "execution_count": 7,
   "id": "8d6ff301-f9a4-4b99-8ac8-4a0553b10edf",
   "metadata": {},
   "outputs": [
    {
     "data": {
      "text/plain": [
       "np.int64(40)"
      ]
     },
     "execution_count": 7,
     "metadata": {},
     "output_type": "execute_result"
    }
   ],
   "source": [
    "myNpList2.max()"
   ]
  },
  {
   "cell_type": "code",
   "execution_count": 9,
   "id": "62919f98-3674-4bf0-89ca-c42f06305ea3",
   "metadata": {},
   "outputs": [
    {
     "data": {
      "text/plain": [
       "array([1., 1., 1., 1., 1.])"
      ]
     },
     "execution_count": 9,
     "metadata": {},
     "output_type": "execute_result"
    }
   ],
   "source": [
    "np.ones(5)"
   ]
  },
  {
   "cell_type": "code",
   "execution_count": 10,
   "id": "c48ebf13-0796-4751-bd3b-8c84f9e59bf4",
   "metadata": {},
   "outputs": [
    {
     "data": {
      "text/plain": [
       "array([0., 0., 0., 0., 0.])"
      ]
     },
     "execution_count": 10,
     "metadata": {},
     "output_type": "execute_result"
    }
   ],
   "source": [
    "np.zeros(5)"
   ]
  },
  {
   "cell_type": "code",
   "execution_count": 11,
   "id": "8f517d76-f5de-4ffd-8263-2df52154c2d9",
   "metadata": {},
   "outputs": [
    {
     "data": {
      "text/plain": [
       "array([0.03682246, 0.43533657, 0.56587698, 0.77109091, 0.47554229])"
      ]
     },
     "execution_count": 11,
     "metadata": {},
     "output_type": "execute_result"
    }
   ],
   "source": [
    "np.random.random(5)"
   ]
  },
  {
   "cell_type": "code",
   "execution_count": 12,
   "id": "cfcf1cc8-54da-4af9-8108-f429002fe645",
   "metadata": {},
   "outputs": [],
   "source": [
    "# array aritmetic"
   ]
  },
  {
   "cell_type": "code",
   "execution_count": 13,
   "id": "9410c538-d90d-4192-bae2-1080559c7106",
   "metadata": {},
   "outputs": [
    {
     "data": {
      "text/plain": [
       "[1, 2, 2, 3]"
      ]
     },
     "execution_count": 13,
     "metadata": {},
     "output_type": "execute_result"
    }
   ],
   "source": [
    "myList = [1,2]\n",
    "myList2= [2,3]\n",
    "\n",
    "myList + myList2"
   ]
  },
  {
   "cell_type": "code",
   "execution_count": 17,
   "id": "2fbaba0b-599a-4909-9e3f-cd01d3c38536",
   "metadata": {},
   "outputs": [
    {
     "data": {
      "text/plain": [
       "array([3, 5])"
      ]
     },
     "execution_count": 17,
     "metadata": {},
     "output_type": "execute_result"
    }
   ],
   "source": [
    "# addition difference between normal list and numpy list\n",
    "myNpList = np.array(myList)\n",
    "myNpList2 = np.array(myList2)\n",
    "\n",
    "myNpList + myNpList2 "
   ]
  },
  {
   "cell_type": "code",
   "execution_count": 18,
   "id": "92750418-63f8-416d-a923-6a1cda667393",
   "metadata": {},
   "outputs": [
    {
     "data": {
      "text/plain": [
       "array([2, 6])"
      ]
     },
     "execution_count": 18,
     "metadata": {},
     "output_type": "execute_result"
    }
   ],
   "source": [
    "myNpList * myNpList2 "
   ]
  },
  {
   "cell_type": "code",
   "execution_count": 19,
   "id": "9aa30717-744f-4c50-8189-89d202cf61b9",
   "metadata": {},
   "outputs": [],
   "source": [
    "nArr = np.array([10,20,30,40])"
   ]
  },
  {
   "cell_type": "code",
   "execution_count": 21,
   "id": "182996a3-f8c4-41bc-9d00-9f4a77ffb1bc",
   "metadata": {},
   "outputs": [
    {
     "data": {
      "text/plain": [
       "10"
      ]
     },
     "execution_count": 21,
     "metadata": {},
     "output_type": "execute_result"
    }
   ],
   "source": [
    "int(nArr.min())"
   ]
  },
  {
   "cell_type": "code",
   "execution_count": 22,
   "id": "90798f14-fede-4409-aaac-342dcaa8c798",
   "metadata": {},
   "outputs": [
    {
     "data": {
      "text/plain": [
       "100"
      ]
     },
     "execution_count": 22,
     "metadata": {},
     "output_type": "execute_result"
    }
   ],
   "source": [
    "int(nArr.sum())"
   ]
  },
  {
   "cell_type": "code",
   "execution_count": 23,
   "id": "c5b21a69-8917-42cc-b64a-1151746b52d3",
   "metadata": {},
   "outputs": [],
   "source": [
    "# arange & indexing"
   ]
  },
  {
   "cell_type": "code",
   "execution_count": 24,
   "id": "c2f3eefb-0171-4700-b05b-b9112083d5d7",
   "metadata": {},
   "outputs": [
    {
     "data": {
      "text/plain": [
       "[0, 1, 2, 3, 4, 5, 6, 7, 8, 9]"
      ]
     },
     "execution_count": 24,
     "metadata": {},
     "output_type": "execute_result"
    }
   ],
   "source": [
    "list (range(0,10))"
   ]
  },
  {
   "cell_type": "code",
   "execution_count": 25,
   "id": "bf2d1924-96de-4ee9-98e5-12f5e37e40a8",
   "metadata": {},
   "outputs": [
    {
     "data": {
      "text/plain": [
       "array([0, 1, 2, 3, 4, 5, 6, 7, 8, 9])"
      ]
     },
     "execution_count": 25,
     "metadata": {},
     "output_type": "execute_result"
    }
   ],
   "source": [
    "np.arange(0,10)"
   ]
  },
  {
   "cell_type": "code",
   "execution_count": 26,
   "id": "64abee67-0394-475d-97a0-cf0b139991ff",
   "metadata": {},
   "outputs": [
    {
     "data": {
      "text/plain": [
       "array([ 0,  2,  4,  6,  8, 10, 12, 14, 16, 18])"
      ]
     },
     "execution_count": 26,
     "metadata": {},
     "output_type": "execute_result"
    }
   ],
   "source": [
    "np.arange(0,20,2)"
   ]
  },
  {
   "cell_type": "code",
   "execution_count": 27,
   "id": "03aee3fa-855f-4f59-b5cf-200ce3012b69",
   "metadata": {},
   "outputs": [],
   "source": [
    "npArr = np.arange(0,10)"
   ]
  },
  {
   "cell_type": "code",
   "execution_count": 28,
   "id": "f7ffcb23-fe89-49b9-bd9d-82c1522b70d4",
   "metadata": {},
   "outputs": [
    {
     "data": {
      "text/plain": [
       "np.int64(0)"
      ]
     },
     "execution_count": 28,
     "metadata": {},
     "output_type": "execute_result"
    }
   ],
   "source": [
    "npArr[0]"
   ]
  },
  {
   "cell_type": "code",
   "execution_count": 29,
   "id": "0346a7f2-6ae6-436c-b913-8895e51385e2",
   "metadata": {},
   "outputs": [
    {
     "data": {
      "text/plain": [
       "9"
      ]
     },
     "execution_count": 29,
     "metadata": {},
     "output_type": "execute_result"
    }
   ],
   "source": [
    "int(npArr[-1])"
   ]
  },
  {
   "cell_type": "code",
   "execution_count": 30,
   "id": "26c7c0b1-89cc-4c3f-bcbc-d9301f050675",
   "metadata": {},
   "outputs": [
    {
     "data": {
      "text/plain": [
       "array([1, 3, 5])"
      ]
     },
     "execution_count": 30,
     "metadata": {},
     "output_type": "execute_result"
    }
   ],
   "source": [
    "npArr[1:7:2]"
   ]
  },
  {
   "cell_type": "code",
   "execution_count": 31,
   "id": "cbdb395a-ea5c-4b61-b6a1-78daa093642a",
   "metadata": {},
   "outputs": [
    {
     "data": {
      "text/plain": [
       "array([9, 8, 7, 6, 5, 4, 3, 2, 1, 0])"
      ]
     },
     "execution_count": 31,
     "metadata": {},
     "output_type": "execute_result"
    }
   ],
   "source": [
    "npArr[::-1]"
   ]
  },
  {
   "cell_type": "code",
   "execution_count": 32,
   "id": "aa5c657f-ef91-4227-a28a-2476182f81c1",
   "metadata": {},
   "outputs": [],
   "source": [
    "# random"
   ]
  },
  {
   "cell_type": "code",
   "execution_count": 33,
   "id": "c3272273-738b-41f3-8e32-b01930b2348d",
   "metadata": {},
   "outputs": [
    {
     "data": {
      "text/plain": [
       "array([[ 0.95771173, -0.60538115,  1.74895706],\n",
       "       [ 0.7696441 , -1.22025365,  0.14548971],\n",
       "       [ 0.55511269, -2.42333879,  0.42415457]])"
      ]
     },
     "execution_count": 33,
     "metadata": {},
     "output_type": "execute_result"
    }
   ],
   "source": [
    "np.random.randn(3,3)"
   ]
  },
  {
   "cell_type": "code",
   "execution_count": 34,
   "id": "777c2ae4-e48e-4725-a415-9f32b17b71c7",
   "metadata": {},
   "outputs": [
    {
     "data": {
      "text/plain": [
       "array([215, 244,  42,  46,  64], dtype=int32)"
      ]
     },
     "execution_count": 34,
     "metadata": {},
     "output_type": "execute_result"
    }
   ],
   "source": [
    "np.random.randint(1,300,5)"
   ]
  },
  {
   "cell_type": "code",
   "execution_count": null,
   "id": "656e0092-7457-40c2-9efe-3f78eef0e5ee",
   "metadata": {},
   "outputs": [],
   "source": []
  }
 ],
 "metadata": {
  "kernelspec": {
   "display_name": "Python 3 (ipykernel)",
   "language": "python",
   "name": "python3"
  },
  "language_info": {
   "codemirror_mode": {
    "name": "ipython",
    "version": 3
   },
   "file_extension": ".py",
   "mimetype": "text/x-python",
   "name": "python",
   "nbconvert_exporter": "python",
   "pygments_lexer": "ipython3",
   "version": "3.13.5"
  }
 },
 "nbformat": 4,
 "nbformat_minor": 5
}
