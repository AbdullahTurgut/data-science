{
 "cells": [
  {
   "cell_type": "code",
   "execution_count": 1,
   "id": "efeb6a7a-8035-4185-9414-868658613fcf",
   "metadata": {},
   "outputs": [],
   "source": [
    "import numpy as np"
   ]
  },
  {
   "cell_type": "code",
   "execution_count": 2,
   "id": "f76c8120-c213-48b6-a38b-fe2f4d2cbb53",
   "metadata": {},
   "outputs": [],
   "source": [
    "nArr = np.random.randint(1,100,20)"
   ]
  },
  {
   "cell_type": "code",
   "execution_count": 3,
   "id": "fe05d07b-fde2-4bf2-a371-a61e58b1de12",
   "metadata": {},
   "outputs": [
    {
     "data": {
      "text/plain": [
       "array([25, 40, 64, 28,  8, 25, 98,  1, 47, 22, 68, 77, 70, 68, 76, 14, 55,\n",
       "       27, 16, 83], dtype=int32)"
      ]
     },
     "execution_count": 3,
     "metadata": {},
     "output_type": "execute_result"
    }
   ],
   "source": [
    "nArr"
   ]
  },
  {
   "cell_type": "code",
   "execution_count": 4,
   "id": "6936c242-b4dc-4442-afb0-19a307fd4711",
   "metadata": {},
   "outputs": [
    {
     "data": {
      "text/plain": [
       "array([40, 64, 28, 98, 47, 68, 77, 70, 68, 76, 55, 27, 83], dtype=int32)"
      ]
     },
     "execution_count": 4,
     "metadata": {},
     "output_type": "execute_result"
    }
   ],
   "source": [
    "nArr[nArr > 25]"
   ]
  },
  {
   "cell_type": "code",
   "execution_count": 5,
   "id": "091564af-e8f5-4e82-bff9-aa0f76a63f66",
   "metadata": {},
   "outputs": [
    {
     "data": {
      "text/plain": [
       "array([ 8,  1, 22, 14, 16], dtype=int32)"
      ]
     },
     "execution_count": 5,
     "metadata": {},
     "output_type": "execute_result"
    }
   ],
   "source": [
    "nArr[nArr < 25]"
   ]
  },
  {
   "cell_type": "code",
   "execution_count": 6,
   "id": "801e63e8-b6ef-4dba-88f3-b2489b405939",
   "metadata": {},
   "outputs": [],
   "source": [
    "# transpose & reshape"
   ]
  },
  {
   "cell_type": "code",
   "execution_count": 7,
   "id": "80c335ee-0ae7-4f53-9cdc-60b6d538e1b2",
   "metadata": {},
   "outputs": [],
   "source": [
    "mArr = np.array([[10,20],[20,30],[30,40]])"
   ]
  },
  {
   "cell_type": "code",
   "execution_count": 8,
   "id": "6ee7442e-9738-4d30-9453-02a25dd3c571",
   "metadata": {},
   "outputs": [
    {
     "data": {
      "text/plain": [
       "array([[10, 20],\n",
       "       [20, 30],\n",
       "       [30, 40]])"
      ]
     },
     "execution_count": 8,
     "metadata": {},
     "output_type": "execute_result"
    }
   ],
   "source": [
    "mArr"
   ]
  },
  {
   "cell_type": "code",
   "execution_count": 9,
   "id": "afb4874a-b235-4397-81a0-93b520b071fb",
   "metadata": {},
   "outputs": [
    {
     "data": {
      "text/plain": [
       "(3, 2)"
      ]
     },
     "execution_count": 9,
     "metadata": {},
     "output_type": "execute_result"
    }
   ],
   "source": [
    "mArr.shape"
   ]
  },
  {
   "cell_type": "code",
   "execution_count": 11,
   "id": "df2d69a2-b80d-433c-8384-ea8aa6c69930",
   "metadata": {},
   "outputs": [
    {
     "data": {
      "text/plain": [
       "array([[10, 20, 30],\n",
       "       [20, 30, 40]])"
      ]
     },
     "execution_count": 11,
     "metadata": {},
     "output_type": "execute_result"
    }
   ],
   "source": [
    "mArr.transpose() # mArr.T is same "
   ]
  },
  {
   "cell_type": "code",
   "execution_count": 12,
   "id": "1ec5651b-e3f2-44ff-94a5-19e01425e149",
   "metadata": {},
   "outputs": [],
   "source": [
    "randArr = np.random.random((6,1))"
   ]
  },
  {
   "cell_type": "code",
   "execution_count": 13,
   "id": "a1cb286b-144d-4191-a894-17f7ac60f5d0",
   "metadata": {},
   "outputs": [
    {
     "data": {
      "text/plain": [
       "array([[0.19830103],\n",
       "       [0.98241612],\n",
       "       [0.02219335],\n",
       "       [0.81362643],\n",
       "       [0.41607453],\n",
       "       [0.63441633]])"
      ]
     },
     "execution_count": 13,
     "metadata": {},
     "output_type": "execute_result"
    }
   ],
   "source": [
    "randArr"
   ]
  },
  {
   "cell_type": "code",
   "execution_count": 14,
   "id": "9bd2c574-619e-48d8-bab2-203222a4f938",
   "metadata": {},
   "outputs": [
    {
     "data": {
      "text/plain": [
       "(6, 1)"
      ]
     },
     "execution_count": 14,
     "metadata": {},
     "output_type": "execute_result"
    }
   ],
   "source": [
    "randArr.shape"
   ]
  },
  {
   "cell_type": "code",
   "execution_count": 15,
   "id": "69447dc0-21aa-4194-9070-8eedbc16189a",
   "metadata": {},
   "outputs": [
    {
     "data": {
      "text/plain": [
       "array([[0.19830103, 0.98241612, 0.02219335],\n",
       "       [0.81362643, 0.41607453, 0.63441633]])"
      ]
     },
     "execution_count": 15,
     "metadata": {},
     "output_type": "execute_result"
    }
   ],
   "source": [
    "randArr.reshape(2,3)"
   ]
  },
  {
   "cell_type": "code",
   "execution_count": 16,
   "id": "12035964-3ea6-4141-853a-312d62b469c1",
   "metadata": {},
   "outputs": [],
   "source": [
    "# z-score"
   ]
  },
  {
   "cell_type": "code",
   "execution_count": 17,
   "id": "f3f49982-55d6-412d-b004-d46b4b541c5c",
   "metadata": {},
   "outputs": [],
   "source": [
    "data = np.array([10,12,13,15,18,25,100,105])"
   ]
  },
  {
   "cell_type": "code",
   "execution_count": 18,
   "id": "63fb263b-e97c-4985-8796-e5ee34f83c06",
   "metadata": {},
   "outputs": [],
   "source": [
    "# outlier"
   ]
  },
  {
   "cell_type": "code",
   "execution_count": 25,
   "id": "36a79762-d621-4fca-822b-8fc45d54a66b",
   "metadata": {},
   "outputs": [],
   "source": [
    "mean = np.mean(data) # ort"
   ]
  },
  {
   "cell_type": "code",
   "execution_count": 26,
   "id": "1e8a57fc-512f-4622-a425-1602dab19912",
   "metadata": {},
   "outputs": [
    {
     "data": {
      "text/plain": [
       "np.float64(37.25)"
      ]
     },
     "execution_count": 26,
     "metadata": {},
     "output_type": "execute_result"
    }
   ],
   "source": [
    "mean"
   ]
  },
  {
   "cell_type": "code",
   "execution_count": 27,
   "id": "502473b4-5499-4ba2-98cd-964e9ab34a25",
   "metadata": {},
   "outputs": [],
   "source": [
    "std = np.std(data) # standart sapma"
   ]
  },
  {
   "cell_type": "code",
   "execution_count": 28,
   "id": "9d6d5aaa-d5f1-49ec-9eba-86b9dc9e5dc7",
   "metadata": {},
   "outputs": [
    {
     "data": {
      "text/plain": [
       "np.float64(37.9333296719389)"
      ]
     },
     "execution_count": 28,
     "metadata": {},
     "output_type": "execute_result"
    }
   ],
   "source": [
    "std"
   ]
  },
  {
   "cell_type": "code",
   "execution_count": 29,
   "id": "057955c5-242b-4a25-8f2b-c6de15fb3d49",
   "metadata": {},
   "outputs": [],
   "source": [
    "zScore = (data - mean) / std"
   ]
  },
  {
   "cell_type": "code",
   "execution_count": 30,
   "id": "09c515f5-0907-4d1c-ba79-a02565aba4b7",
   "metadata": {},
   "outputs": [
    {
     "data": {
      "text/plain": [
       "array([-0.71836562, -0.66564154, -0.6392795 , -0.58655542, -0.50746929,\n",
       "       -0.322935  ,  1.65421809,  1.78602829])"
      ]
     },
     "execution_count": 30,
     "metadata": {},
     "output_type": "execute_result"
    }
   ],
   "source": [
    "zScore"
   ]
  },
  {
   "cell_type": "code",
   "execution_count": 31,
   "id": "c36d0c33-8d1d-4809-ba81-632db71f5b77",
   "metadata": {},
   "outputs": [
    {
     "data": {
      "text/plain": [
       "array([100, 105])"
      ]
     },
     "execution_count": 31,
     "metadata": {},
     "output_type": "execute_result"
    }
   ],
   "source": [
    "data[zScore > 1] # checking outliers manually"
   ]
  },
  {
   "cell_type": "code",
   "execution_count": 32,
   "id": "ec0b5846-5114-4695-9157-f75dfd6e9af1",
   "metadata": {},
   "outputs": [],
   "source": [
    "# math equations"
   ]
  },
  {
   "cell_type": "code",
   "execution_count": 33,
   "id": "e26ba9d6-74fe-467b-a432-4420f90311f2",
   "metadata": {},
   "outputs": [],
   "source": [
    "# 2x + 3y =8 and 5x + 7y = 19"
   ]
  },
  {
   "cell_type": "code",
   "execution_count": 34,
   "id": "54aa023a-6e8e-4e98-9a3d-e053414a10b3",
   "metadata": {},
   "outputs": [],
   "source": [
    "#coefficient"
   ]
  },
  {
   "cell_type": "code",
   "execution_count": 35,
   "id": "cef8582a-542e-4e7b-adb8-794778744ccd",
   "metadata": {},
   "outputs": [],
   "source": [
    "A = np.array([[2,3],[5,7]])"
   ]
  },
  {
   "cell_type": "code",
   "execution_count": 36,
   "id": "69c415fa-1468-4b9c-9120-9d708ab70c92",
   "metadata": {},
   "outputs": [],
   "source": [
    "#constant"
   ]
  },
  {
   "cell_type": "code",
   "execution_count": 37,
   "id": "abe6459c-7049-4774-94e9-eb4fdbc22da1",
   "metadata": {},
   "outputs": [],
   "source": [
    "b = np.array([8,19])"
   ]
  },
  {
   "cell_type": "code",
   "execution_count": 38,
   "id": "8bbfe203-a0fe-4954-aaf0-ec72072ec3e5",
   "metadata": {},
   "outputs": [],
   "source": [
    "solution = np.linalg.solve(A,b)"
   ]
  },
  {
   "cell_type": "code",
   "execution_count": 39,
   "id": "3acfc38b-025d-44ac-9a51-8eeeff593316",
   "metadata": {},
   "outputs": [
    {
     "data": {
      "text/plain": [
       "array([1., 2.])"
      ]
     },
     "execution_count": 39,
     "metadata": {},
     "output_type": "execute_result"
    }
   ],
   "source": [
    "solution"
   ]
  },
  {
   "cell_type": "code",
   "execution_count": 40,
   "id": "5c4cada1-c685-4865-ae50-629fd1e65897",
   "metadata": {},
   "outputs": [],
   "source": [
    "# x = 1, y = 2 is correct"
   ]
  },
  {
   "cell_type": "code",
   "execution_count": null,
   "id": "b31ba01d-b793-4097-87f8-12274108cc28",
   "metadata": {},
   "outputs": [],
   "source": []
  }
 ],
 "metadata": {
  "kernelspec": {
   "display_name": "Python 3 (ipykernel)",
   "language": "python",
   "name": "python3"
  },
  "language_info": {
   "codemirror_mode": {
    "name": "ipython",
    "version": 3
   },
   "file_extension": ".py",
   "mimetype": "text/x-python",
   "name": "python",
   "nbconvert_exporter": "python",
   "pygments_lexer": "ipython3",
   "version": "3.13.5"
  }
 },
 "nbformat": 4,
 "nbformat_minor": 5
}
