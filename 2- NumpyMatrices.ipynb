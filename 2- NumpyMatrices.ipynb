{
 "cells": [
  {
   "cell_type": "code",
   "execution_count": 1,
   "id": "38479320-2625-4305-8df5-aa7710e68a1c",
   "metadata": {},
   "outputs": [],
   "source": [
    "import numpy as np"
   ]
  },
  {
   "cell_type": "code",
   "execution_count": 2,
   "id": "32f3e6c9-bf6e-43de-ace7-c41b1db18339",
   "metadata": {},
   "outputs": [],
   "source": [
    "myMtrx = np.random.randint(1,20,2)"
   ]
  },
  {
   "cell_type": "code",
   "execution_count": 3,
   "id": "361637f1-a1de-4f20-9984-e15782a0a11a",
   "metadata": {},
   "outputs": [
    {
     "data": {
      "text/plain": [
       "array([ 7, 13], dtype=int32)"
      ]
     },
     "execution_count": 3,
     "metadata": {},
     "output_type": "execute_result"
    }
   ],
   "source": [
    "myMtrx"
   ]
  },
  {
   "cell_type": "code",
   "execution_count": 4,
   "id": "b053d303-dc5d-4723-9df9-c660e71f266c",
   "metadata": {},
   "outputs": [],
   "source": [
    "myMtrx = np.random.randn(2,2)"
   ]
  },
  {
   "cell_type": "code",
   "execution_count": 5,
   "id": "19650f85-885b-4bd2-8404-86451b5e44bb",
   "metadata": {},
   "outputs": [
    {
     "data": {
      "text/plain": [
       "array([[0.15352899, 0.68389814],\n",
       "       [1.98534853, 2.29656592]])"
      ]
     },
     "execution_count": 5,
     "metadata": {},
     "output_type": "execute_result"
    }
   ],
   "source": [
    "myMtrx"
   ]
  },
  {
   "cell_type": "code",
   "execution_count": 7,
   "id": "1c5dc034-c517-42f9-90dd-ce670154e551",
   "metadata": {},
   "outputs": [
    {
     "name": "stdout",
     "output_type": "stream",
     "text": [
      "Help on method randn in module numpy.random.mtrand:\n",
      "\n",
      "randn(*args) method of numpy.random.mtrand.RandomState instance\n",
      "    randn(d0, d1, ..., dn)\n",
      "\n",
      "    Return a sample (or samples) from the \"standard normal\" distribution.\n",
      "\n",
      "    .. note::\n",
      "        This is a convenience function for users porting code from Matlab,\n",
      "        and wraps `standard_normal`. That function takes a\n",
      "        tuple to specify the size of the output, which is consistent with\n",
      "        other NumPy functions like `numpy.zeros` and `numpy.ones`.\n",
      "\n",
      "    .. note::\n",
      "        New code should use the\n",
      "        `~numpy.random.Generator.standard_normal`\n",
      "        method of a `~numpy.random.Generator` instance instead;\n",
      "        please see the :ref:`random-quick-start`.\n",
      "\n",
      "    If positive int_like arguments are provided, `randn` generates an array\n",
      "    of shape ``(d0, d1, ..., dn)``, filled\n",
      "    with random floats sampled from a univariate \"normal\" (Gaussian)\n",
      "    distribution of mean 0 and variance 1. A single float randomly sampled\n",
      "    from the distribution is returned if no argument is provided.\n",
      "\n",
      "    Parameters\n",
      "    ----------\n",
      "    d0, d1, ..., dn : int, optional\n",
      "        The dimensions of the returned array, must be non-negative.\n",
      "        If no argument is given a single Python float is returned.\n",
      "\n",
      "    Returns\n",
      "    -------\n",
      "    Z : ndarray or float\n",
      "        A ``(d0, d1, ..., dn)``-shaped array of floating-point samples from\n",
      "        the standard normal distribution, or a single such float if\n",
      "        no parameters were supplied.\n",
      "\n",
      "    See Also\n",
      "    --------\n",
      "    standard_normal : Similar, but takes a tuple as its argument.\n",
      "    normal : Also accepts mu and sigma arguments.\n",
      "    random.Generator.standard_normal: which should be used for new code.\n",
      "\n",
      "    Notes\n",
      "    -----\n",
      "    For random samples from the normal distribution with mean ``mu`` and\n",
      "    standard deviation ``sigma``, use::\n",
      "\n",
      "        sigma * np.random.randn(...) + mu\n",
      "\n",
      "    Examples\n",
      "    --------\n",
      "    >>> np.random.randn()\n",
      "    2.1923875335537315  # random\n",
      "\n",
      "    Two-by-four array of samples from the normal distribution with\n",
      "    mean 3 and standard deviation 2.5:\n",
      "\n",
      "    >>> 3 + 2.5 * np.random.randn(2, 4)\n",
      "    array([[-4.49401501,  4.00950034, -1.81814867,  7.29718677],   # random\n",
      "           [ 0.39924804,  4.68456316,  4.99394529,  4.84057254]])  # random\n",
      "\n"
     ]
    }
   ],
   "source": [
    "help(np.random.randn)"
   ]
  },
  {
   "cell_type": "code",
   "execution_count": 8,
   "id": "1ad8f94f-32ba-41ae-b91d-1562790ae22d",
   "metadata": {},
   "outputs": [],
   "source": [
    "myMtrx = 2 + np.random.randn(2,2)"
   ]
  },
  {
   "cell_type": "code",
   "execution_count": 9,
   "id": "e7a3314b-4888-439d-aa0e-e31b4d810efa",
   "metadata": {},
   "outputs": [
    {
     "data": {
      "text/plain": [
       "array([[3.09255062, 0.38651393],\n",
       "       [1.89678095, 2.44776866]])"
      ]
     },
     "execution_count": 9,
     "metadata": {},
     "output_type": "execute_result"
    }
   ],
   "source": [
    "myMtrx"
   ]
  },
  {
   "cell_type": "code",
   "execution_count": 10,
   "id": "c4124e0a-5d94-46ed-920d-0359714d0deb",
   "metadata": {},
   "outputs": [],
   "source": [
    "# row * column"
   ]
  },
  {
   "cell_type": "code",
   "execution_count": 13,
   "id": "7b987c51-1f28-442b-95b9-ba01623534ca",
   "metadata": {},
   "outputs": [],
   "source": [
    "npMatrix = np.array([[5,10],[15,20],[25,30]])"
   ]
  },
  {
   "cell_type": "code",
   "execution_count": 14,
   "id": "37d30304-1172-4bd7-a81e-a0a53f921f38",
   "metadata": {},
   "outputs": [
    {
     "data": {
      "text/plain": [
       "array([[ 5, 10],\n",
       "       [15, 20],\n",
       "       [25, 30]])"
      ]
     },
     "execution_count": 14,
     "metadata": {},
     "output_type": "execute_result"
    }
   ],
   "source": [
    "npMatrix"
   ]
  },
  {
   "cell_type": "code",
   "execution_count": 16,
   "id": "e77280a8-efe1-42a2-ae79-51e96e76bab1",
   "metadata": {},
   "outputs": [
    {
     "data": {
      "text/plain": [
       "25"
      ]
     },
     "execution_count": 16,
     "metadata": {},
     "output_type": "execute_result"
    }
   ],
   "source": [
    "int(npMatrix[2][0])"
   ]
  },
  {
   "cell_type": "code",
   "execution_count": 17,
   "id": "c2de0afd-0f42-4644-bee3-b679bd184d73",
   "metadata": {},
   "outputs": [
    {
     "data": {
      "text/plain": [
       "np.int64(105)"
      ]
     },
     "execution_count": 17,
     "metadata": {},
     "output_type": "execute_result"
    }
   ],
   "source": [
    "npMatrix.sum()"
   ]
  },
  {
   "cell_type": "code",
   "execution_count": 18,
   "id": "baa3785e-791f-44db-adb1-576ad3d5d4d8",
   "metadata": {},
   "outputs": [
    {
     "data": {
      "text/plain": [
       "np.int64(5)"
      ]
     },
     "execution_count": 18,
     "metadata": {},
     "output_type": "execute_result"
    }
   ],
   "source": [
    "npMatrix.min()"
   ]
  },
  {
   "cell_type": "code",
   "execution_count": 21,
   "id": "d5c6878c-86ce-461f-a3df-a124ae6e23fb",
   "metadata": {},
   "outputs": [
    {
     "data": {
      "text/plain": [
       "array([[1., 1., 1., 1.],\n",
       "       [1., 1., 1., 1.],\n",
       "       [1., 1., 1., 1.]])"
      ]
     },
     "execution_count": 21,
     "metadata": {},
     "output_type": "execute_result"
    }
   ],
   "source": [
    "np.ones((3,4))"
   ]
  },
  {
   "cell_type": "code",
   "execution_count": 22,
   "id": "bfc3720f-dfc9-49aa-8e6a-73c9677733aa",
   "metadata": {},
   "outputs": [
    {
     "data": {
      "text/plain": [
       "array([[0.11481424, 0.04150287],\n",
       "       [0.0937066 , 0.54661686]])"
      ]
     },
     "execution_count": 22,
     "metadata": {},
     "output_type": "execute_result"
    }
   ],
   "source": [
    "np.random.random((2,2))"
   ]
  },
  {
   "cell_type": "code",
   "execution_count": 27,
   "id": "6720af12-e407-4f6d-bdb7-ab2a669851ca",
   "metadata": {},
   "outputs": [
    {
     "data": {
      "text/plain": [
       "array([[0.69060121, 1.30690672],\n",
       "       [0.80564088, 1.82861518]])"
      ]
     },
     "execution_count": 27,
     "metadata": {},
     "output_type": "execute_result"
    }
   ],
   "source": [
    "np.random.random((2,2))+ np.random.random((2,2))"
   ]
  },
  {
   "cell_type": "code",
   "execution_count": 28,
   "id": "24979487-9bc5-45c3-b789-b5fb946dd5d1",
   "metadata": {},
   "outputs": [],
   "source": [
    "# matrix multiplication"
   ]
  },
  {
   "cell_type": "code",
   "execution_count": 29,
   "id": "ffa12e83-ca0e-4892-9682-fa5f0f62eeb2",
   "metadata": {},
   "outputs": [],
   "source": [
    "fArr = np.array([[5,15],[25,35]])"
   ]
  },
  {
   "cell_type": "code",
   "execution_count": 30,
   "id": "a9e2d2f6-c601-4557-a75b-2052aac8ad77",
   "metadata": {},
   "outputs": [],
   "source": [
    "fArr2 = np.array([[10,20],[30,40]])"
   ]
  },
  {
   "cell_type": "code",
   "execution_count": 31,
   "id": "fa9e00c2-8b98-4c7d-b556-85d7090fb82b",
   "metadata": {},
   "outputs": [
    {
     "data": {
      "text/plain": [
       "array([[  50,  300],\n",
       "       [ 750, 1400]])"
      ]
     },
     "execution_count": 31,
     "metadata": {},
     "output_type": "execute_result"
    }
   ],
   "source": [
    "fArr * fArr2"
   ]
  },
  {
   "cell_type": "code",
   "execution_count": 32,
   "id": "20683796-c73b-41d7-8edb-98b803b63797",
   "metadata": {},
   "outputs": [],
   "source": [
    "fArr = np.array([[1,2,3]])"
   ]
  },
  {
   "cell_type": "code",
   "execution_count": 33,
   "id": "dccebfc8-df93-4129-bf78-669fcecdbbe2",
   "metadata": {},
   "outputs": [
    {
     "data": {
      "text/plain": [
       "(1, 3)"
      ]
     },
     "execution_count": 33,
     "metadata": {},
     "output_type": "execute_result"
    }
   ],
   "source": [
    "fArr.shape"
   ]
  },
  {
   "cell_type": "code",
   "execution_count": 40,
   "id": "d757623b-be3b-4e87-9df5-efd3a45226ab",
   "metadata": {},
   "outputs": [],
   "source": [
    "sArr = np.array([[1,3],[3,5],[2,7]])"
   ]
  },
  {
   "cell_type": "code",
   "execution_count": 41,
   "id": "8e5692ef-b972-4361-80c8-b7c450c7bace",
   "metadata": {},
   "outputs": [
    {
     "data": {
      "text/plain": [
       "(3, 2)"
      ]
     },
     "execution_count": 41,
     "metadata": {},
     "output_type": "execute_result"
    }
   ],
   "source": [
    "sArr.shape"
   ]
  },
  {
   "cell_type": "code",
   "execution_count": 42,
   "id": "d9448498-373f-4183-918d-6ae4cd8b1564",
   "metadata": {},
   "outputs": [],
   "source": [
    "result=fArr.dot(sArr)"
   ]
  },
  {
   "cell_type": "code",
   "execution_count": 43,
   "id": "66c7961d-9709-4002-99fe-309883ec5a4d",
   "metadata": {},
   "outputs": [
    {
     "name": "stdout",
     "output_type": "stream",
     "text": [
      "[[13 34]]\n"
     ]
    }
   ],
   "source": [
    "print(result)"
   ]
  },
  {
   "cell_type": "code",
   "execution_count": 44,
   "id": "53f9ba50-6892-4479-98b1-59ce95ac0a03",
   "metadata": {},
   "outputs": [
    {
     "data": {
      "text/plain": [
       "(1, 2)"
      ]
     },
     "execution_count": 44,
     "metadata": {},
     "output_type": "execute_result"
    }
   ],
   "source": [
    "result.shape"
   ]
  },
  {
   "cell_type": "code",
   "execution_count": null,
   "id": "0b809163-e7be-4158-a886-bc51ee2eb823",
   "metadata": {},
   "outputs": [],
   "source": []
  }
 ],
 "metadata": {
  "kernelspec": {
   "display_name": "Python 3 (ipykernel)",
   "language": "python",
   "name": "python3"
  },
  "language_info": {
   "codemirror_mode": {
    "name": "ipython",
    "version": 3
   },
   "file_extension": ".py",
   "mimetype": "text/x-python",
   "name": "python",
   "nbconvert_exporter": "python",
   "pygments_lexer": "ipython3",
   "version": "3.13.5"
  }
 },
 "nbformat": 4,
 "nbformat_minor": 5
}
