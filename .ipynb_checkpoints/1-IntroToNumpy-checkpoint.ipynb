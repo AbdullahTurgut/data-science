{
 "cells": [
  {
   "cell_type": "code",
   "execution_count": 1,
   "id": "fd7772cd-11c1-4ab8-a3d2-71589067c5c4",
   "metadata": {},
   "outputs": [],
   "source": [
    "import numpy as np"
   ]
  },
  {
   "cell_type": "code",
   "execution_count": 2,
   "id": "7e716e2b-d20b-461d-9348-f0fd99e5271d",
   "metadata": {},
   "outputs": [],
   "source": [
    "myNpList = np.array([1,2,3,4,5])"
   ]
  },
  {
   "cell_type": "code",
   "execution_count": 3,
   "id": "55593222-debd-4282-bc97-a2bf4e22d442",
   "metadata": {},
   "outputs": [
    {
     "data": {
      "text/plain": [
       "numpy.ndarray"
      ]
     },
     "execution_count": 3,
     "metadata": {},
     "output_type": "execute_result"
    }
   ],
   "source": [
    "type(myNpList)"
   ]
  },
  {
   "cell_type": "code",
   "execution_count": 4,
   "id": "61ed9b99-24ec-489d-97b9-30745c7fda7b",
   "metadata": {},
   "outputs": [
    {
     "data": {
      "text/plain": [
       "np.int64(5)"
      ]
     },
     "execution_count": 4,
     "metadata": {},
     "output_type": "execute_result"
    }
   ],
   "source": [
    "myNpList.max()"
   ]
  },
  {
   "cell_type": "code",
   "execution_count": 5,
   "id": "c130daee-bd39-4720-922e-43c041e032ae",
   "metadata": {},
   "outputs": [],
   "source": [
    "myList = [10,20,30,40]"
   ]
  },
  {
   "cell_type": "code",
   "execution_count": 6,
   "id": "9b1af57f-b22f-43b6-bb97-f06af53c3fe6",
   "metadata": {},
   "outputs": [],
   "source": [
    "myNpList2 = np.array(myList)"
   ]
  },
  {
   "cell_type": "code",
   "execution_count": 7,
   "id": "8d6ff301-f9a4-4b99-8ac8-4a0553b10edf",
   "metadata": {},
   "outputs": [
    {
     "data": {
      "text/plain": [
       "np.int64(40)"
      ]
     },
     "execution_count": 7,
     "metadata": {},
     "output_type": "execute_result"
    }
   ],
   "source": [
    "myNpList2.max()"
   ]
  },
  {
   "cell_type": "code",
   "execution_count": 9,
   "id": "62919f98-3674-4bf0-89ca-c42f06305ea3",
   "metadata": {},
   "outputs": [
    {
     "data": {
      "text/plain": [
       "array([1., 1., 1., 1., 1.])"
      ]
     },
     "execution_count": 9,
     "metadata": {},
     "output_type": "execute_result"
    }
   ],
   "source": [
    "np.ones(5)"
   ]
  },
  {
   "cell_type": "code",
   "execution_count": 10,
   "id": "c48ebf13-0796-4751-bd3b-8c84f9e59bf4",
   "metadata": {},
   "outputs": [
    {
     "data": {
      "text/plain": [
       "array([0., 0., 0., 0., 0.])"
      ]
     },
     "execution_count": 10,
     "metadata": {},
     "output_type": "execute_result"
    }
   ],
   "source": [
    "np.zeros(5)"
   ]
  },
  {
   "cell_type": "code",
   "execution_count": 11,
   "id": "8f517d76-f5de-4ffd-8263-2df52154c2d9",
   "metadata": {},
   "outputs": [
    {
     "data": {
      "text/plain": [
       "array([0.03682246, 0.43533657, 0.56587698, 0.77109091, 0.47554229])"
      ]
     },
     "execution_count": 11,
     "metadata": {},
     "output_type": "execute_result"
    }
   ],
   "source": [
    "np.random.random(5)"
   ]
  },
  {
   "cell_type": "code",
   "execution_count": 12,
   "id": "cfcf1cc8-54da-4af9-8108-f429002fe645",
   "metadata": {},
   "outputs": [],
   "source": [
    "# array aritmetic"
   ]
  },
  {
   "cell_type": "code",
   "execution_count": 13,
   "id": "9410c538-d90d-4192-bae2-1080559c7106",
   "metadata": {},
   "outputs": [
    {
     "data": {
      "text/plain": [
       "[1, 2, 2, 3]"
      ]
     },
     "execution_count": 13,
     "metadata": {},
     "output_type": "execute_result"
    }
   ],
   "source": [
    "myList = [1,2]\n",
    "myList2= [2,3]\n",
    "\n",
    "myList + myList2"
   ]
  },
  {
   "cell_type": "code",
   "execution_count": 17,
   "id": "2fbaba0b-599a-4909-9e3f-cd01d3c38536",
   "metadata": {},
   "outputs": [
    {
     "data": {
      "text/plain": [
       "array([3, 5])"
      ]
     },
     "execution_count": 17,
     "metadata": {},
     "output_type": "execute_result"
    }
   ],
   "source": [
    "# addition difference between normal list and numpy list\n",
    "myNpList = np.array(myList)\n",
    "myNpList2 = np.array(myList2)\n",
    "\n",
    "myNpList + myNpList2 "
   ]
  },
  {
   "cell_type": "code",
   "execution_count": 18,
   "id": "92750418-63f8-416d-a923-6a1cda667393",
   "metadata": {},
   "outputs": [
    {
     "data": {
      "text/plain": [
       "array([2, 6])"
      ]
     },
     "execution_count": 18,
     "metadata": {},
     "output_type": "execute_result"
    }
   ],
   "source": [
    "myNpList * myNpList2 "
   ]
  },
  {
   "cell_type": "code",
   "execution_count": 19,
   "id": "9aa30717-744f-4c50-8189-89d202cf61b9",
   "metadata": {},
   "outputs": [],
   "source": [
    "nArr = np.array([10,20,30,40])"
   ]
  },
  {
   "cell_type": "code",
   "execution_count": 21,
   "id": "182996a3-f8c4-41bc-9d00-9f4a77ffb1bc",
   "metadata": {},
   "outputs": [
    {
     "data": {
      "text/plain": [
       "10"
      ]
     },
     "execution_count": 21,
     "metadata": {},
     "output_type": "execute_result"
    }
   ],
   "source": [
    "int(nArr.min())"
   ]
  },
  {
   "cell_type": "code",
   "execution_count": 22,
   "id": "90798f14-fede-4409-aaac-342dcaa8c798",
   "metadata": {},
   "outputs": [
    {
     "data": {
      "text/plain": [
       "100"
      ]
     },
     "execution_count": 22,
     "metadata": {},
     "output_type": "execute_result"
    }
   ],
   "source": [
    "int(nArr.sum())"
   ]
  },
  {
   "cell_type": "code",
   "execution_count": null,
   "id": "c5b21a69-8917-42cc-b64a-1151746b52d3",
   "metadata": {},
   "outputs": [],
   "source": []
  }
 ],
 "metadata": {
  "kernelspec": {
   "display_name": "Python 3 (ipykernel)",
   "language": "python",
   "name": "python3"
  },
  "language_info": {
   "codemirror_mode": {
    "name": "ipython",
    "version": 3
   },
   "file_extension": ".py",
   "mimetype": "text/x-python",
   "name": "python",
   "nbconvert_exporter": "python",
   "pygments_lexer": "ipython3",
   "version": "3.13.5"
  }
 },
 "nbformat": 4,
 "nbformat_minor": 5
}
