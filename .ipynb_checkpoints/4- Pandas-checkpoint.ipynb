{
 "cells": [
  {
   "cell_type": "code",
   "execution_count": 1,
   "id": "6b41a848-e01e-462a-80de-d466682daf47",
   "metadata": {},
   "outputs": [],
   "source": [
    "import numpy as np\n",
    "import pandas as pd"
   ]
  },
  {
   "cell_type": "code",
   "execution_count": 2,
   "id": "c22c2cc7-3d71-407d-bf6e-afe3bc9efb4f",
   "metadata": {},
   "outputs": [],
   "source": [
    "grades = {\"Abdllah\":100, \"David\":75,\"Alexa\":80}"
   ]
  },
  {
   "cell_type": "code",
   "execution_count": 3,
   "id": "dca6f35d-5424-4beb-bed2-be2536c74757",
   "metadata": {},
   "outputs": [
    {
     "data": {
      "text/plain": [
       "Abdllah    100\n",
       "David       75\n",
       "Alexa       80\n",
       "dtype: int64"
      ]
     },
     "execution_count": 3,
     "metadata": {},
     "output_type": "execute_result"
    }
   ],
   "source": [
    "pd.Series(grades)"
   ]
  },
  {
   "cell_type": "code",
   "execution_count": 4,
   "id": "5a4abf6a-dc35-4d2b-874e-8ab233c09803",
   "metadata": {},
   "outputs": [],
   "source": [
    "# arithmetic"
   ]
  },
  {
   "cell_type": "code",
   "execution_count": 6,
   "id": "d2059858-02c9-4d33-96bc-a1c073886efd",
   "metadata": {},
   "outputs": [],
   "source": [
    "contestResult = pd.Series(data = [10,25,100],index = [\"Abdllah\",\"David\",\"Alexa\"])"
   ]
  },
  {
   "cell_type": "code",
   "execution_count": 7,
   "id": "a9a043a8-0ea5-4d16-8f72-aeb688e146c8",
   "metadata": {},
   "outputs": [],
   "source": [
    "contestResult2 = pd.Series(data = [50,35,20],index = [\"Abdllah\",\"David\",\"Alexa\"])"
   ]
  },
  {
   "cell_type": "code",
   "execution_count": 8,
   "id": "2e7a08f1-c2bb-4c74-8e36-6b376df96915",
   "metadata": {},
   "outputs": [],
   "source": [
    "finalResult  = contestResult + contestResult2"
   ]
  },
  {
   "cell_type": "code",
   "execution_count": 9,
   "id": "68f96337-fe2c-4356-9e1b-36688270102f",
   "metadata": {},
   "outputs": [
    {
     "data": {
      "text/plain": [
       "Abdllah     60\n",
       "David       60\n",
       "Alexa      120\n",
       "dtype: int64"
      ]
     },
     "execution_count": 9,
     "metadata": {},
     "output_type": "execute_result"
    }
   ],
   "source": [
    "finalResult"
   ]
  },
  {
   "cell_type": "code",
   "execution_count": 14,
   "id": "021db944-1d99-4eee-a2f1-6f5c601d84ae",
   "metadata": {},
   "outputs": [],
   "source": [
    " difSeries = pd.Series([10,5,7,1,8,23],[\"a\",\"b\",\"c\",\"d\",\"e\",\"f\"])"
   ]
  },
  {
   "cell_type": "code",
   "execution_count": 15,
   "id": "0428b577-b433-43a4-bde1-521eaef3968e",
   "metadata": {},
   "outputs": [],
   "source": [
    "difSeries2 = pd.Series([20,50,40,1],[\"a\",\"f\",\"t\",\"v\"])"
   ]
  },
  {
   "cell_type": "code",
   "execution_count": 16,
   "id": "ad270497-7fbd-4fa0-a9fd-636d9665174f",
   "metadata": {},
   "outputs": [
    {
     "data": {
      "text/plain": [
       "a    30.0\n",
       "b     NaN\n",
       "c     NaN\n",
       "d     NaN\n",
       "e     NaN\n",
       "f    73.0\n",
       "t     NaN\n",
       "v     NaN\n",
       "dtype: float64"
      ]
     },
     "execution_count": 16,
     "metadata": {},
     "output_type": "execute_result"
    }
   ],
   "source": [
    "difSeries + difSeries2"
   ]
  },
  {
   "cell_type": "code",
   "execution_count": null,
   "id": "46f44fd6-6d40-497e-929d-661291a70c3e",
   "metadata": {},
   "outputs": [],
   "source": []
  }
 ],
 "metadata": {
  "kernelspec": {
   "display_name": "Python 3 (ipykernel)",
   "language": "python",
   "name": "python3"
  },
  "language_info": {
   "codemirror_mode": {
    "name": "ipython",
    "version": 3
   },
   "file_extension": ".py",
   "mimetype": "text/x-python",
   "name": "python",
   "nbconvert_exporter": "python",
   "pygments_lexer": "ipython3",
   "version": "3.13.5"
  }
 },
 "nbformat": 4,
 "nbformat_minor": 5
}
